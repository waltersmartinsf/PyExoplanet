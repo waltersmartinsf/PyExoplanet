{
 "metadata": {
  "name": "",
  "signature": "sha256:eb14ab4f8107731519a2b7d6b8bcd4a9da1a378c42449b1112372a828ce0dea3"
 },
 "nbformat": 3,
 "nbformat_minor": 0,
 "worksheets": []
}