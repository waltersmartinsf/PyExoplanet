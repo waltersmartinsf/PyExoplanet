{
 "metadata": {
  "name": "",
  "signature": "sha256:a68b20bb316717e7168d219d27ceff1262e43841f4ac869930df08dd3a062de0"
 },
 "nbformat": 3,
 "nbformat_minor": 0,
 "worksheets": [
  {
   "cells": [
    {
     "cell_type": "code",
     "collapsed": false,
     "input": [
      "from __init__ import *"
     ],
     "language": "python",
     "metadata": {},
     "outputs": [
      {
       "output_type": "stream",
       "stream": "stdout",
       "text": [
        "\n",
        "\n",
        "      +------------------------------------------------------------+\n",
        "      |       Space Telescope Science Data Analysis System         |    \n",
        "      |                   STSDAS Version 3.17                      |\n",
        "      |                                                            |\n",
        "      |   Space Telescope Science Institute, Baltimore, Maryland   |\n",
        "      |   Copyright (C) 2014 Association of Universities for       |\n",
        "      |            Research in Astronomy, Inc.(AURA)               |\n",
        "      |       See stsdas$copyright.stsdas for terms of use.        |\n",
        "      |         For help, send e-mail to help@stsci.edu            |\n",
        "      |                                                            |\n",
        "      +------------------------------------------------------------+\n"
       ]
      },
      {
       "output_type": "stream",
       "stream": "stdout",
       "text": [
        "stsdas/:\n",
        " analysis/      examples        hst_calib/      sobsolete/\n",
        " contrib/       fitsio/         playpen/        toolbox/\n",
        " describe       graphics/       problems\n",
        "imred/:\n",
        " argus/         ctioslit/       hydra/          kpnocoude/      vtel/\n",
        " bias/          dtoi/           iids/           kpnoslit/\n",
        " ccdred/        echelle/        irred/          quadred/\n",
        " crutil/        generic/        irs/            specred/\n",
        "ccdred/:\n",
        " badpiximage    ccdlist         combine         mkillumcor      setinstrument\n",
        " ccdgroups      ccdmask         darkcombine     mkillumflat     zerocombine\n",
        " ccdhedit       ccdproc         flatcombine     mkskycor\n",
        " ccdinstrument  ccdtest         mkfringecor     mkskyflat\n",
        "crutil/:\n",
        " cosmicrays     crcombine       crfix           crmedian\n",
        " craverage      credit          crgrow          crnebula\n"
       ]
      }
     ],
     "prompt_number": 1
    },
    {
     "cell_type": "code",
     "collapsed": false,
     "input": [],
     "language": "python",
     "metadata": {},
     "outputs": []
    }
   ],
   "metadata": {}
  }
 ]
}